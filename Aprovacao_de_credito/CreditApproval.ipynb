{
 "cells": [
  {
   "cell_type": "markdown",
   "id": "bb582bac",
   "metadata": {},
   "source": [
    "# **Aprovação de Crédito**\n",
    "## Regressão Logística\n",
    "\n",
    "#### Código: Python\n",
    " \n",
    "___\n",
    "\n",
    "Objetivos:\n",
    "- Solucionar problemas de classificação;\n",
    "- Manipular e analisar variáveis reais;\n",
    "- Explorar e adequar dados para modelos matemáticos;\n",
    "- Avaliar e otimizar o modelo.\n",
    "\n",
    "### \n",
    "___"
   ]
  },
  {
   "cell_type": "markdown",
   "id": "c573ab6c",
   "metadata": {},
   "source": [
    "## 1 BIBLIOTECAS"
   ]
  },
  {
   "cell_type": "code",
   "execution_count": 1,
   "id": "896305ce",
   "metadata": {},
   "outputs": [],
   "source": [
    "# Manipulação de dados\n",
    "import math\n",
    "import numpy as np\n",
    "import pandas as pd\n",
    "\n",
    "# Visualização de dados\n",
    "import seaborn as sns\n",
    "import matplotlib.pyplot as plt\n",
    "%matplotlib inline\n",
    "sns.set()\n",
    "\n",
    "# Modelagem matemática\n",
    "import statsmodels.api as sm\n",
    "from sklearn import metrics\n",
    "from sklearn.metrics import auc\n",
    "from sklearn.metrics import roc_curve\n",
    "from sklearn.metrics import RocCurveDisplay\n",
    "from sklearn.metrics import confusion_matrix\n",
    "from sklearn.metrics import classification_report\n",
    "from sklearn.model_selection import train_test_split"
   ]
  },
  {
   "cell_type": "markdown",
   "id": "39823ec2",
   "metadata": {},
   "source": [
    "## 2 OBTENDO  E TRATANDO DADOS"
   ]
  },
  {
   "cell_type": "code",
   "execution_count": 2,
   "id": "0feddbd2",
   "metadata": {},
   "outputs": [
    {
     "data": {
      "text/html": [
       "<div>\n",
       "<style scoped>\n",
       "    .dataframe tbody tr th:only-of-type {\n",
       "        vertical-align: middle;\n",
       "    }\n",
       "\n",
       "    .dataframe tbody tr th {\n",
       "        vertical-align: top;\n",
       "    }\n",
       "\n",
       "    .dataframe thead th {\n",
       "        text-align: right;\n",
       "    }\n",
       "</style>\n",
       "<table border=\"1\" class=\"dataframe\">\n",
       "  <thead>\n",
       "    <tr style=\"text-align: right;\">\n",
       "      <th></th>\n",
       "      <th>A1</th>\n",
       "      <th>A2</th>\n",
       "      <th>A3</th>\n",
       "      <th>A4</th>\n",
       "      <th>A5</th>\n",
       "      <th>A6</th>\n",
       "      <th>A7</th>\n",
       "      <th>A8</th>\n",
       "      <th>A9</th>\n",
       "      <th>A10</th>\n",
       "      <th>A11</th>\n",
       "      <th>A12</th>\n",
       "      <th>A13</th>\n",
       "      <th>A14</th>\n",
       "      <th>A15</th>\n",
       "      <th>target</th>\n",
       "    </tr>\n",
       "  </thead>\n",
       "  <tbody>\n",
       "    <tr>\n",
       "      <th>0</th>\n",
       "      <td>b</td>\n",
       "      <td>30.83</td>\n",
       "      <td>0.000</td>\n",
       "      <td>u</td>\n",
       "      <td>g</td>\n",
       "      <td>w</td>\n",
       "      <td>v</td>\n",
       "      <td>1.25</td>\n",
       "      <td>t</td>\n",
       "      <td>t</td>\n",
       "      <td>1</td>\n",
       "      <td>f</td>\n",
       "      <td>g</td>\n",
       "      <td>00202</td>\n",
       "      <td>0</td>\n",
       "      <td>+</td>\n",
       "    </tr>\n",
       "    <tr>\n",
       "      <th>1</th>\n",
       "      <td>a</td>\n",
       "      <td>58.67</td>\n",
       "      <td>4.460</td>\n",
       "      <td>u</td>\n",
       "      <td>g</td>\n",
       "      <td>q</td>\n",
       "      <td>h</td>\n",
       "      <td>3.04</td>\n",
       "      <td>t</td>\n",
       "      <td>t</td>\n",
       "      <td>6</td>\n",
       "      <td>f</td>\n",
       "      <td>g</td>\n",
       "      <td>00043</td>\n",
       "      <td>560</td>\n",
       "      <td>+</td>\n",
       "    </tr>\n",
       "    <tr>\n",
       "      <th>2</th>\n",
       "      <td>a</td>\n",
       "      <td>24.50</td>\n",
       "      <td>0.500</td>\n",
       "      <td>u</td>\n",
       "      <td>g</td>\n",
       "      <td>q</td>\n",
       "      <td>h</td>\n",
       "      <td>1.50</td>\n",
       "      <td>t</td>\n",
       "      <td>f</td>\n",
       "      <td>0</td>\n",
       "      <td>f</td>\n",
       "      <td>g</td>\n",
       "      <td>00280</td>\n",
       "      <td>824</td>\n",
       "      <td>+</td>\n",
       "    </tr>\n",
       "    <tr>\n",
       "      <th>3</th>\n",
       "      <td>b</td>\n",
       "      <td>27.83</td>\n",
       "      <td>1.540</td>\n",
       "      <td>u</td>\n",
       "      <td>g</td>\n",
       "      <td>w</td>\n",
       "      <td>v</td>\n",
       "      <td>3.75</td>\n",
       "      <td>t</td>\n",
       "      <td>t</td>\n",
       "      <td>5</td>\n",
       "      <td>t</td>\n",
       "      <td>g</td>\n",
       "      <td>00100</td>\n",
       "      <td>3</td>\n",
       "      <td>+</td>\n",
       "    </tr>\n",
       "    <tr>\n",
       "      <th>4</th>\n",
       "      <td>b</td>\n",
       "      <td>20.17</td>\n",
       "      <td>5.625</td>\n",
       "      <td>u</td>\n",
       "      <td>g</td>\n",
       "      <td>w</td>\n",
       "      <td>v</td>\n",
       "      <td>1.71</td>\n",
       "      <td>t</td>\n",
       "      <td>f</td>\n",
       "      <td>0</td>\n",
       "      <td>f</td>\n",
       "      <td>s</td>\n",
       "      <td>00120</td>\n",
       "      <td>0</td>\n",
       "      <td>+</td>\n",
       "    </tr>\n",
       "    <tr>\n",
       "      <th>...</th>\n",
       "      <td>...</td>\n",
       "      <td>...</td>\n",
       "      <td>...</td>\n",
       "      <td>...</td>\n",
       "      <td>...</td>\n",
       "      <td>...</td>\n",
       "      <td>...</td>\n",
       "      <td>...</td>\n",
       "      <td>...</td>\n",
       "      <td>...</td>\n",
       "      <td>...</td>\n",
       "      <td>...</td>\n",
       "      <td>...</td>\n",
       "      <td>...</td>\n",
       "      <td>...</td>\n",
       "      <td>...</td>\n",
       "    </tr>\n",
       "    <tr>\n",
       "      <th>685</th>\n",
       "      <td>b</td>\n",
       "      <td>21.08</td>\n",
       "      <td>10.085</td>\n",
       "      <td>y</td>\n",
       "      <td>p</td>\n",
       "      <td>e</td>\n",
       "      <td>h</td>\n",
       "      <td>1.25</td>\n",
       "      <td>f</td>\n",
       "      <td>f</td>\n",
       "      <td>0</td>\n",
       "      <td>f</td>\n",
       "      <td>g</td>\n",
       "      <td>00260</td>\n",
       "      <td>0</td>\n",
       "      <td>-</td>\n",
       "    </tr>\n",
       "    <tr>\n",
       "      <th>686</th>\n",
       "      <td>a</td>\n",
       "      <td>22.67</td>\n",
       "      <td>0.750</td>\n",
       "      <td>u</td>\n",
       "      <td>g</td>\n",
       "      <td>c</td>\n",
       "      <td>v</td>\n",
       "      <td>2.00</td>\n",
       "      <td>f</td>\n",
       "      <td>t</td>\n",
       "      <td>2</td>\n",
       "      <td>t</td>\n",
       "      <td>g</td>\n",
       "      <td>00200</td>\n",
       "      <td>394</td>\n",
       "      <td>-</td>\n",
       "    </tr>\n",
       "    <tr>\n",
       "      <th>687</th>\n",
       "      <td>a</td>\n",
       "      <td>25.25</td>\n",
       "      <td>13.500</td>\n",
       "      <td>y</td>\n",
       "      <td>p</td>\n",
       "      <td>ff</td>\n",
       "      <td>ff</td>\n",
       "      <td>2.00</td>\n",
       "      <td>f</td>\n",
       "      <td>t</td>\n",
       "      <td>1</td>\n",
       "      <td>t</td>\n",
       "      <td>g</td>\n",
       "      <td>00200</td>\n",
       "      <td>1</td>\n",
       "      <td>-</td>\n",
       "    </tr>\n",
       "    <tr>\n",
       "      <th>688</th>\n",
       "      <td>b</td>\n",
       "      <td>17.92</td>\n",
       "      <td>0.205</td>\n",
       "      <td>u</td>\n",
       "      <td>g</td>\n",
       "      <td>aa</td>\n",
       "      <td>v</td>\n",
       "      <td>0.04</td>\n",
       "      <td>f</td>\n",
       "      <td>f</td>\n",
       "      <td>0</td>\n",
       "      <td>f</td>\n",
       "      <td>g</td>\n",
       "      <td>00280</td>\n",
       "      <td>750</td>\n",
       "      <td>-</td>\n",
       "    </tr>\n",
       "    <tr>\n",
       "      <th>689</th>\n",
       "      <td>b</td>\n",
       "      <td>35.00</td>\n",
       "      <td>3.375</td>\n",
       "      <td>u</td>\n",
       "      <td>g</td>\n",
       "      <td>c</td>\n",
       "      <td>h</td>\n",
       "      <td>8.29</td>\n",
       "      <td>f</td>\n",
       "      <td>f</td>\n",
       "      <td>0</td>\n",
       "      <td>t</td>\n",
       "      <td>g</td>\n",
       "      <td>00000</td>\n",
       "      <td>0</td>\n",
       "      <td>-</td>\n",
       "    </tr>\n",
       "  </tbody>\n",
       "</table>\n",
       "<p>690 rows × 16 columns</p>\n",
       "</div>"
      ],
      "text/plain": [
       "    A1     A2      A3 A4 A5  A6  A7    A8 A9 A10  A11 A12 A13    A14  A15  \\\n",
       "0    b  30.83   0.000  u  g   w   v  1.25  t   t    1   f   g  00202    0   \n",
       "1    a  58.67   4.460  u  g   q   h  3.04  t   t    6   f   g  00043  560   \n",
       "2    a  24.50   0.500  u  g   q   h  1.50  t   f    0   f   g  00280  824   \n",
       "3    b  27.83   1.540  u  g   w   v  3.75  t   t    5   t   g  00100    3   \n",
       "4    b  20.17   5.625  u  g   w   v  1.71  t   f    0   f   s  00120    0   \n",
       "..  ..    ...     ... .. ..  ..  ..   ... ..  ..  ...  ..  ..    ...  ...   \n",
       "685  b  21.08  10.085  y  p   e   h  1.25  f   f    0   f   g  00260    0   \n",
       "686  a  22.67   0.750  u  g   c   v  2.00  f   t    2   t   g  00200  394   \n",
       "687  a  25.25  13.500  y  p  ff  ff  2.00  f   t    1   t   g  00200    1   \n",
       "688  b  17.92   0.205  u  g  aa   v  0.04  f   f    0   f   g  00280  750   \n",
       "689  b  35.00   3.375  u  g   c   h  8.29  f   f    0   t   g  00000    0   \n",
       "\n",
       "    target  \n",
       "0        +  \n",
       "1        +  \n",
       "2        +  \n",
       "3        +  \n",
       "4        +  \n",
       "..     ...  \n",
       "685      -  \n",
       "686      -  \n",
       "687      -  \n",
       "688      -  \n",
       "689      -  \n",
       "\n",
       "[690 rows x 16 columns]"
      ]
     },
     "execution_count": 2,
     "metadata": {},
     "output_type": "execute_result"
    }
   ],
   "source": [
    "# Fonte da base de dados\n",
    "source = 'https://archive.ics.uci.edu/ml/machine-learning-databases/credit-screening/crx.data'\n",
    "\n",
    "# Cria nomes para as variáveis\n",
    "names = []\n",
    "for i in range(15):\n",
    "    names.append('A' + str(i + 1))\n",
    "names.append('target')\n",
    "\n",
    "# Lê e apresenta os dados\n",
    "data = pd.read_table(source, sep=',', header = None, names = names)\n",
    "data"
   ]
  },
  {
   "cell_type": "code",
   "execution_count": 3,
   "id": "c0a4d8f5-9d7d-455a-a578-46598cc4f44b",
   "metadata": {},
   "outputs": [],
   "source": [
    "# Elimina variáveis indesejadas\n",
    "data = data.drop(['A4', 'A5', 'A14'], axis = 1)"
   ]
  },
  {
   "cell_type": "markdown",
   "id": "322f6e6f-3c19-462b-b694-176559b60a10",
   "metadata": {},
   "source": [
    "### 2.1 Tratamento dos dados"
   ]
  },
  {
   "cell_type": "code",
   "execution_count": 4,
   "id": "69f06aea-b1ef-4f53-a365-225ecffe3325",
   "metadata": {},
   "outputs": [
    {
     "name": "stdout",
     "output_type": "stream",
     "text": [
      "False\n",
      "False\n"
     ]
    }
   ],
   "source": [
    "# Busca por valores nulos e faltantes\n",
    "print(data.isna().values.any())\n",
    "print(data.isnull().values.any())"
   ]
  },
  {
   "cell_type": "code",
   "execution_count": 5,
   "id": "ba7f3903-493a-445d-b24f-556497938bb0",
   "metadata": {},
   "outputs": [
    {
     "name": "stdout",
     "output_type": "stream",
     "text": [
      "['b' 'a' '?']\n",
      "\n",
      "\n",
      "12\n",
      "12\n",
      "9\n",
      "9\n"
     ]
    }
   ],
   "source": [
    "# Identificando característica do valor faltante através de A1\n",
    "print(data['A1'].unique())\n",
    "print('\\n')\n",
    "\n",
    "# Verificando quantidade de faltantes por variáveis\n",
    "print(data['A1'].value_counts()['?'])\n",
    "print(data['A2'].value_counts()['?'])\n",
    "print(data['A6'].value_counts()['?'])\n",
    "print(data['A7'].value_counts()['?'])"
   ]
  },
  {
   "cell_type": "code",
   "execution_count": 6,
   "id": "1b5674a8-7f4e-4d60-a411-100d1b337e14",
   "metadata": {},
   "outputs": [
    {
     "name": "stdout",
     "output_type": "stream",
     "text": [
      "True\n",
      "True\n",
      "False\n",
      "False\n"
     ]
    }
   ],
   "source": [
    "# Substituindo '?' por NaN\n",
    "data = data.replace(\"?\",np.NaN)\n",
    "\n",
    "print(data.isna().values.any())\n",
    "print(data.isnull().values.any())\n",
    "\n",
    "# Tratando os valores faltantes\n",
    "data = data.fillna(method = 'ffill')\n",
    "\n",
    "print(data.isna().values.any())\n",
    "print(data.isnull().values.any())"
   ]
  },
  {
   "cell_type": "markdown",
   "id": "f8c22522-e4fb-4037-aaaa-d760191cd9d1",
   "metadata": {},
   "source": [
    "## 3 EXPLORAÇÃO E ADEQUAÇÃO DE VARIÁVEIS (Feature engineering)"
   ]
  },
  {
   "cell_type": "code",
   "execution_count": 7,
   "id": "4e5c4b08-152f-4f12-bb05-2fcabf49ab83",
   "metadata": {},
   "outputs": [
    {
     "data": {
      "text/plain": [
       "A1         object\n",
       "A2         object\n",
       "A3        float64\n",
       "A6         object\n",
       "A7         object\n",
       "A8        float64\n",
       "A9         object\n",
       "A10        object\n",
       "A11         int64\n",
       "A12        object\n",
       "A13        object\n",
       "A15         int64\n",
       "target     object\n",
       "dtype: object"
      ]
     },
     "execution_count": 7,
     "metadata": {},
     "output_type": "execute_result"
    }
   ],
   "source": [
    "df = data.copy()\n",
    "\n",
    "# Verificando tipos de dados\n",
    "df.dtypes"
   ]
  },
  {
   "cell_type": "code",
   "execution_count": 8,
   "id": "55c2db12",
   "metadata": {},
   "outputs": [
    {
     "data": {
      "text/html": [
       "<div>\n",
       "<style scoped>\n",
       "    .dataframe tbody tr th:only-of-type {\n",
       "        vertical-align: middle;\n",
       "    }\n",
       "\n",
       "    .dataframe tbody tr th {\n",
       "        vertical-align: top;\n",
       "    }\n",
       "\n",
       "    .dataframe thead th {\n",
       "        text-align: right;\n",
       "    }\n",
       "</style>\n",
       "<table border=\"1\" class=\"dataframe\">\n",
       "  <thead>\n",
       "    <tr style=\"text-align: right;\">\n",
       "      <th></th>\n",
       "      <th>A2</th>\n",
       "      <th>A3</th>\n",
       "      <th>A8</th>\n",
       "      <th>A11</th>\n",
       "      <th>A15</th>\n",
       "    </tr>\n",
       "  </thead>\n",
       "  <tbody>\n",
       "    <tr>\n",
       "      <th>count</th>\n",
       "      <td>690.000000</td>\n",
       "      <td>690.000000</td>\n",
       "      <td>690.000000</td>\n",
       "      <td>690.00000</td>\n",
       "      <td>690.000000</td>\n",
       "    </tr>\n",
       "    <tr>\n",
       "      <th>mean</th>\n",
       "      <td>31.483058</td>\n",
       "      <td>4.758725</td>\n",
       "      <td>2.223406</td>\n",
       "      <td>2.40000</td>\n",
       "      <td>1017.385507</td>\n",
       "    </tr>\n",
       "    <tr>\n",
       "      <th>std</th>\n",
       "      <td>11.912872</td>\n",
       "      <td>4.978163</td>\n",
       "      <td>3.346513</td>\n",
       "      <td>4.86294</td>\n",
       "      <td>5210.102598</td>\n",
       "    </tr>\n",
       "    <tr>\n",
       "      <th>min</th>\n",
       "      <td>13.750000</td>\n",
       "      <td>0.000000</td>\n",
       "      <td>0.000000</td>\n",
       "      <td>0.00000</td>\n",
       "      <td>0.000000</td>\n",
       "    </tr>\n",
       "    <tr>\n",
       "      <th>25%</th>\n",
       "      <td>22.580000</td>\n",
       "      <td>1.000000</td>\n",
       "      <td>0.165000</td>\n",
       "      <td>0.00000</td>\n",
       "      <td>0.000000</td>\n",
       "    </tr>\n",
       "    <tr>\n",
       "      <th>50%</th>\n",
       "      <td>28.375000</td>\n",
       "      <td>2.750000</td>\n",
       "      <td>1.000000</td>\n",
       "      <td>0.00000</td>\n",
       "      <td>5.000000</td>\n",
       "    </tr>\n",
       "    <tr>\n",
       "      <th>75%</th>\n",
       "      <td>37.750000</td>\n",
       "      <td>7.207500</td>\n",
       "      <td>2.625000</td>\n",
       "      <td>3.00000</td>\n",
       "      <td>395.500000</td>\n",
       "    </tr>\n",
       "    <tr>\n",
       "      <th>max</th>\n",
       "      <td>80.250000</td>\n",
       "      <td>28.000000</td>\n",
       "      <td>28.500000</td>\n",
       "      <td>67.00000</td>\n",
       "      <td>100000.000000</td>\n",
       "    </tr>\n",
       "  </tbody>\n",
       "</table>\n",
       "</div>"
      ],
      "text/plain": [
       "               A2          A3          A8        A11            A15\n",
       "count  690.000000  690.000000  690.000000  690.00000     690.000000\n",
       "mean    31.483058    4.758725    2.223406    2.40000    1017.385507\n",
       "std     11.912872    4.978163    3.346513    4.86294    5210.102598\n",
       "min     13.750000    0.000000    0.000000    0.00000       0.000000\n",
       "25%     22.580000    1.000000    0.165000    0.00000       0.000000\n",
       "50%     28.375000    2.750000    1.000000    0.00000       5.000000\n",
       "75%     37.750000    7.207500    2.625000    3.00000     395.500000\n",
       "max     80.250000   28.000000   28.500000   67.00000  100000.000000"
      ]
     },
     "execution_count": 8,
     "metadata": {},
     "output_type": "execute_result"
    }
   ],
   "source": [
    "# Corrigindo variáveis contínuas para tipo numérico\n",
    "df.A2 = pd.to_numeric(df.A2)\n",
    "\n",
    "# Estatística descritiva dos dados\n",
    "df.describe()"
   ]
  },
  {
   "cell_type": "code",
   "execution_count": 9,
   "id": "db20f27e",
   "metadata": {},
   "outputs": [
    {
     "data": {
      "image/png": "[encoded data removed]",
      "text/plain": [
       "<Figure size 1440x1080 with 6 Axes>"
      ]
     },
     "metadata": {},
     "output_type": "display_data"
    }
   ],
   "source": [
    "# Observa a distribuição de dados contínuos\n",
    "df.hist()\n",
    "plt.gcf().set_size_inches(20, 15)"
   ]
  },
  {
   "cell_type": "code",
   "execution_count": 10,
   "id": "be11655d-0b5b-4e5d-9aa1-31efd960bd24",
   "metadata": {},
   "outputs": [],
   "source": [
    "# Label Encoding - Converte variáveis categóricas em numéricas\n",
    "df.A1 = df.A1.astype(\"category\")\n",
    "df.A6 = df.A6.astype(\"category\")\n",
    "df.A7 = df.A7.astype(\"category\")\n",
    "df.A9 = df.A9.astype(\"category\")\n",
    "df.A10 = df.A10.astype(\"category\")\n",
    "df.A12 = df.A12.astype(\"category\")\n",
    "df.target = df.target.astype(\"category\")\n",
    "\n",
    "df.A1 = df.A1.cat.codes\n",
    "df.A6 = df.A6.cat.codes\n",
    "df.A7 = df.A7.cat.codes\n",
    "df.A9 = df.A9.cat.codes\n",
    "df.A10 = df.A10.cat.codes\n",
    "df.A12 = df.A12.cat.codes\n",
    "df.target = df.target.cat.codes\n",
    "\n",
    "# One Hot Encoding - Divide cada categoria em uma variável numérica\n",
    "df = pd.get_dummies(df, columns=[\"A13\"])"
   ]
  },
  {
   "cell_type": "code",
   "execution_count": 11,
   "id": "7127a83f-9bae-4e5d-a9df-073e2fb4145f",
   "metadata": {},
   "outputs": [],
   "source": [
    "# Discretização, em quantis, de variáveis continuas\n",
    "df.A2 = pd.qcut(df.A2, 6, labels=False)\n",
    "df.A3 = pd.qcut(df.A3, 6, labels=False)\n",
    "df.A8 = pd.qcut(df.A8, 6, labels=False)"
   ]
  },
  {
   "cell_type": "code",
   "execution_count": 12,
   "id": "e5cc6929-80e9-4642-b1f3-cdb1974ef87e",
   "metadata": {},
   "outputs": [
    {
     "data": {
      "text/html": [
       "<div>\n",
       "<style scoped>\n",
       "    .dataframe tbody tr th:only-of-type {\n",
       "        vertical-align: middle;\n",
       "    }\n",
       "\n",
       "    .dataframe tbody tr th {\n",
       "        vertical-align: top;\n",
       "    }\n",
       "\n",
       "    .dataframe thead th {\n",
       "        text-align: right;\n",
       "    }\n",
       "</style>\n",
       "<table border=\"1\" class=\"dataframe\">\n",
       "  <thead>\n",
       "    <tr style=\"text-align: right;\">\n",
       "      <th></th>\n",
       "      <th>A1</th>\n",
       "      <th>A2</th>\n",
       "      <th>A3</th>\n",
       "      <th>A6</th>\n",
       "      <th>A7</th>\n",
       "      <th>A8</th>\n",
       "      <th>A9</th>\n",
       "      <th>A10</th>\n",
       "      <th>A11</th>\n",
       "      <th>A12</th>\n",
       "      <th>A15</th>\n",
       "      <th>target</th>\n",
       "      <th>A13_g</th>\n",
       "      <th>A13_p</th>\n",
       "      <th>A13_s</th>\n",
       "    </tr>\n",
       "  </thead>\n",
       "  <tbody>\n",
       "    <tr>\n",
       "      <th>0</th>\n",
       "      <td>1</td>\n",
       "      <td>3</td>\n",
       "      <td>0</td>\n",
       "      <td>12</td>\n",
       "      <td>7</td>\n",
       "      <td>3</td>\n",
       "      <td>1</td>\n",
       "      <td>1</td>\n",
       "      <td>1</td>\n",
       "      <td>0</td>\n",
       "      <td>0</td>\n",
       "      <td>0</td>\n",
       "      <td>1</td>\n",
       "      <td>0</td>\n",
       "      <td>0</td>\n",
       "    </tr>\n",
       "    <tr>\n",
       "      <th>1</th>\n",
       "      <td>0</td>\n",
       "      <td>5</td>\n",
       "      <td>3</td>\n",
       "      <td>10</td>\n",
       "      <td>3</td>\n",
       "      <td>4</td>\n",
       "      <td>1</td>\n",
       "      <td>1</td>\n",
       "      <td>6</td>\n",
       "      <td>0</td>\n",
       "      <td>560</td>\n",
       "      <td>0</td>\n",
       "      <td>1</td>\n",
       "      <td>0</td>\n",
       "      <td>0</td>\n",
       "    </tr>\n",
       "    <tr>\n",
       "      <th>2</th>\n",
       "      <td>0</td>\n",
       "      <td>2</td>\n",
       "      <td>0</td>\n",
       "      <td>10</td>\n",
       "      <td>3</td>\n",
       "      <td>3</td>\n",
       "      <td>1</td>\n",
       "      <td>0</td>\n",
       "      <td>0</td>\n",
       "      <td>0</td>\n",
       "      <td>824</td>\n",
       "      <td>0</td>\n",
       "      <td>1</td>\n",
       "      <td>0</td>\n",
       "      <td>0</td>\n",
       "    </tr>\n",
       "    <tr>\n",
       "      <th>3</th>\n",
       "      <td>1</td>\n",
       "      <td>2</td>\n",
       "      <td>2</td>\n",
       "      <td>12</td>\n",
       "      <td>7</td>\n",
       "      <td>4</td>\n",
       "      <td>1</td>\n",
       "      <td>1</td>\n",
       "      <td>5</td>\n",
       "      <td>1</td>\n",
       "      <td>3</td>\n",
       "      <td>0</td>\n",
       "      <td>1</td>\n",
       "      <td>0</td>\n",
       "      <td>0</td>\n",
       "    </tr>\n",
       "    <tr>\n",
       "      <th>4</th>\n",
       "      <td>1</td>\n",
       "      <td>0</td>\n",
       "      <td>4</td>\n",
       "      <td>12</td>\n",
       "      <td>7</td>\n",
       "      <td>3</td>\n",
       "      <td>1</td>\n",
       "      <td>0</td>\n",
       "      <td>0</td>\n",
       "      <td>0</td>\n",
       "      <td>0</td>\n",
       "      <td>0</td>\n",
       "      <td>0</td>\n",
       "      <td>0</td>\n",
       "      <td>1</td>\n",
       "    </tr>\n",
       "    <tr>\n",
       "      <th>...</th>\n",
       "      <td>...</td>\n",
       "      <td>...</td>\n",
       "      <td>...</td>\n",
       "      <td>...</td>\n",
       "      <td>...</td>\n",
       "      <td>...</td>\n",
       "      <td>...</td>\n",
       "      <td>...</td>\n",
       "      <td>...</td>\n",
       "      <td>...</td>\n",
       "      <td>...</td>\n",
       "      <td>...</td>\n",
       "      <td>...</td>\n",
       "      <td>...</td>\n",
       "      <td>...</td>\n",
       "    </tr>\n",
       "    <tr>\n",
       "      <th>685</th>\n",
       "      <td>1</td>\n",
       "      <td>1</td>\n",
       "      <td>5</td>\n",
       "      <td>4</td>\n",
       "      <td>3</td>\n",
       "      <td>3</td>\n",
       "      <td>0</td>\n",
       "      <td>0</td>\n",
       "      <td>0</td>\n",
       "      <td>0</td>\n",
       "      <td>0</td>\n",
       "      <td>1</td>\n",
       "      <td>1</td>\n",
       "      <td>0</td>\n",
       "      <td>0</td>\n",
       "    </tr>\n",
       "    <tr>\n",
       "      <th>686</th>\n",
       "      <td>0</td>\n",
       "      <td>1</td>\n",
       "      <td>1</td>\n",
       "      <td>1</td>\n",
       "      <td>7</td>\n",
       "      <td>3</td>\n",
       "      <td>0</td>\n",
       "      <td>1</td>\n",
       "      <td>2</td>\n",
       "      <td>1</td>\n",
       "      <td>394</td>\n",
       "      <td>1</td>\n",
       "      <td>1</td>\n",
       "      <td>0</td>\n",
       "      <td>0</td>\n",
       "    </tr>\n",
       "    <tr>\n",
       "      <th>687</th>\n",
       "      <td>0</td>\n",
       "      <td>2</td>\n",
       "      <td>5</td>\n",
       "      <td>5</td>\n",
       "      <td>2</td>\n",
       "      <td>3</td>\n",
       "      <td>0</td>\n",
       "      <td>1</td>\n",
       "      <td>1</td>\n",
       "      <td>1</td>\n",
       "      <td>1</td>\n",
       "      <td>1</td>\n",
       "      <td>1</td>\n",
       "      <td>0</td>\n",
       "      <td>0</td>\n",
       "    </tr>\n",
       "    <tr>\n",
       "      <th>688</th>\n",
       "      <td>1</td>\n",
       "      <td>0</td>\n",
       "      <td>0</td>\n",
       "      <td>0</td>\n",
       "      <td>7</td>\n",
       "      <td>0</td>\n",
       "      <td>0</td>\n",
       "      <td>0</td>\n",
       "      <td>0</td>\n",
       "      <td>0</td>\n",
       "      <td>750</td>\n",
       "      <td>1</td>\n",
       "      <td>1</td>\n",
       "      <td>0</td>\n",
       "      <td>0</td>\n",
       "    </tr>\n",
       "    <tr>\n",
       "      <th>689</th>\n",
       "      <td>1</td>\n",
       "      <td>4</td>\n",
       "      <td>3</td>\n",
       "      <td>1</td>\n",
       "      <td>3</td>\n",
       "      <td>5</td>\n",
       "      <td>0</td>\n",
       "      <td>0</td>\n",
       "      <td>0</td>\n",
       "      <td>1</td>\n",
       "      <td>0</td>\n",
       "      <td>1</td>\n",
       "      <td>1</td>\n",
       "      <td>0</td>\n",
       "      <td>0</td>\n",
       "    </tr>\n",
       "  </tbody>\n",
       "</table>\n",
       "<p>690 rows × 15 columns</p>\n",
       "</div>"
      ],
      "text/plain": [
       "     A1  A2  A3  A6  A7  A8  A9  A10  A11  A12  A15  target  A13_g  A13_p  \\\n",
       "0     1   3   0  12   7   3   1    1    1    0    0       0      1      0   \n",
       "1     0   5   3  10   3   4   1    1    6    0  560       0      1      0   \n",
       "2     0   2   0  10   3   3   1    0    0    0  824       0      1      0   \n",
       "3     1   2   2  12   7   4   1    1    5    1    3       0      1      0   \n",
       "4     1   0   4  12   7   3   1    0    0    0    0       0      0      0   \n",
       "..   ..  ..  ..  ..  ..  ..  ..  ...  ...  ...  ...     ...    ...    ...   \n",
       "685   1   1   5   4   3   3   0    0    0    0    0       1      1      0   \n",
       "686   0   1   1   1   7   3   0    1    2    1  394       1      1      0   \n",
       "687   0   2   5   5   2   3   0    1    1    1    1       1      1      0   \n",
       "688   1   0   0   0   7   0   0    0    0    0  750       1      1      0   \n",
       "689   1   4   3   1   3   5   0    0    0    1    0       1      1      0   \n",
       "\n",
       "     A13_s  \n",
       "0        0  \n",
       "1        0  \n",
       "2        0  \n",
       "3        0  \n",
       "4        1  \n",
       "..     ...  \n",
       "685      0  \n",
       "686      0  \n",
       "687      0  \n",
       "688      0  \n",
       "689      0  \n",
       "\n",
       "[690 rows x 15 columns]"
      ]
     },
     "execution_count": 12,
     "metadata": {},
     "output_type": "execute_result"
    }
   ],
   "source": [
    "df"
   ]
  },
  {
   "cell_type": "code",
   "execution_count": 13,
   "id": "74fa1a2e-f4f0-4923-bc26-641c930c8531",
   "metadata": {
    "scrolled": false
   },
   "outputs": [
    {
     "data": {
      "image/png": "[encoded data removed]",
      "text/plain": [
       "<Figure size 1440x720 with 16 Axes>"
      ]
     },
     "metadata": {},
     "output_type": "display_data"
    }
   ],
   "source": [
    "df.hist()\n",
    "plt.gcf().set_size_inches(20, 10)"
   ]
  },
  {
   "cell_type": "code",
   "execution_count": 14,
   "id": "21269aae",
   "metadata": {},
   "outputs": [
    {
     "data": {
      "text/plain": [
       "<AxesSubplot:xlabel='A10', ylabel='Count'>"
      ]
     },
     "execution_count": 14,
     "metadata": {},
     "output_type": "execute_result"
    },
    {
     "data": {
      "image/png": "[encoded data removed]",
      "text/plain": [
       "<Figure size 720x360 with 2 Axes>"
      ]
     },
     "metadata": {},
     "output_type": "display_data"
    }
   ],
   "source": [
    "fig, ax = plt.subplots(1, 2, figsize=(10, 5))\n",
    "fig.suptitle('Relação entre alvo e variáveis categóricas (A9 e A10)')\n",
    "\n",
    "sns.histplot(df, x=\"A9\", hue=\"target\",  fill=True, multiple=\"dodge\",binwidth=0.2, ax = ax[0])\n",
    "sns.histplot(df, x=\"A10\", hue=\"target\", fill=True, multiple=\"dodge\",binwidth=0.2, ax = ax[1])"
   ]
  },
  {
   "cell_type": "code",
   "execution_count": 15,
   "id": "eac9f4c4-7fce-450d-880c-e6afd76f0c41",
   "metadata": {},
   "outputs": [
    {
     "data": {
      "text/plain": [
       "<AxesSubplot:xlabel='A8', ylabel='Count'>"
      ]
     },
     "execution_count": 15,
     "metadata": {},
     "output_type": "execute_result"
    },
    {
     "data": {
      "image/png": "[encoded data removed]",
      "text/plain": [
       "<Figure size 1080x360 with 3 Axes>"
      ]
     },
     "metadata": {},
     "output_type": "display_data"
    }
   ],
   "source": [
    "fig, ax = plt.subplots(1, 3, figsize=(15, 5))\n",
    "fig.suptitle('Discretização em quartis')\n",
    "\n",
    "sns.histplot(df, x=\"A2\", hue=\"target\", fill=True, multiple=\"dodge\", ax = ax[0])\n",
    "sns.histplot(df, x=\"A3\", hue=\"target\", fill=True, multiple=\"dodge\", ax = ax[1])\n",
    "sns.histplot(df, x=\"A8\", hue=\"target\", fill=True, multiple=\"dodge\", ax = ax[2])"
   ]
  },
  {
   "cell_type": "markdown",
   "id": "3993f180-1d8c-4559-a83f-a9978d35d8d4",
   "metadata": {},
   "source": [
    "## 4 IMPLEMENTAÇÃO DO MODELO"
   ]
  },
  {
   "cell_type": "markdown",
   "id": "7f8a2496",
   "metadata": {},
   "source": [
    "### 4.1 Segmentação da Base de Dados"
   ]
  },
  {
   "cell_type": "code",
   "execution_count": 16,
   "id": "0142a4e9-8920-4a98-aa75-a7990d2a4e23",
   "metadata": {},
   "outputs": [],
   "source": [
    "# Separando variáveis independentes da dependente (target)\n",
    "x = df.drop(\"target\", axis = 1)\n",
    "y = df[\"target\"]\n",
    "\n",
    "# Separando bases de treinamento e teste em 50%\n",
    "x_train, x_test, y_train, y_test = train_test_split(x, y, test_size = 0.5, random_state = 42)"
   ]
  },
  {
   "cell_type": "markdown",
   "id": "a1a2302f-fd0a-425d-adb4-35032dfb09ff",
   "metadata": {},
   "source": [
    "### 4.2 Treinamento do Modelo"
   ]
  },
  {
   "cell_type": "code",
   "execution_count": 17,
   "id": "c65f2c67-1299-4407-bf4a-d23ec09ed1d3",
   "metadata": {},
   "outputs": [
    {
     "name": "stdout",
     "output_type": "stream",
     "text": [
      "                 Generalized Linear Model Regression Results                  \n",
      "==============================================================================\n",
      "Dep. Variable:                 target   No. Observations:                  345\n",
      "Model:                            GLM   Df Residuals:                      331\n",
      "Model Family:                Binomial   Df Model:                           13\n",
      "Link Function:                  logit   Scale:                          1.0000\n",
      "Method:                          IRLS   Log-Likelihood:                -100.54\n",
      "Date:                Wed, 21 Jul 2021   Deviance:                       201.07\n",
      "Time:                        12:03:38   Pearson chi2:                     337.\n",
      "No. Iterations:                     8                                         \n",
      "Covariance Type:            nonrobust                                         \n",
      "==============================================================================\n",
      "                 coef    std err          z      P>|z|      [0.025      0.975]\n",
      "------------------------------------------------------------------------------\n",
      "const          2.5136      0.587      4.285      0.000       1.364       3.663\n",
      "A1             0.0096      0.407      0.024      0.981      -0.788       0.807\n",
      "A2            -0.0498      0.119     -0.419      0.675      -0.283       0.183\n",
      "A3            -0.0589      0.113     -0.520      0.603      -0.281       0.163\n",
      "A6            -0.0524      0.045     -1.175      0.240      -0.140       0.035\n",
      "A7            -0.0103      0.076     -0.135      0.892      -0.159       0.139\n",
      "A8            -0.3310      0.129     -2.568      0.010      -0.584      -0.078\n",
      "A9            -3.8767      0.484     -8.003      0.000      -4.826      -2.927\n",
      "A10           -0.7990      0.468     -1.706      0.088      -1.717       0.119\n",
      "A11           -0.0226      0.052     -0.437      0.662      -0.124       0.079\n",
      "A12            0.2590      0.393      0.659      0.510      -0.511       1.029\n",
      "A15           -0.0007      0.000     -2.980      0.003      -0.001      -0.000\n",
      "A13_g          2.2504      0.473      4.762      0.000       1.324       3.177\n",
      "A13_p         -2.3349      0.784     -2.978      0.003      -3.872      -0.798\n",
      "A13_s          2.5981      0.609      4.267      0.000       1.405       3.791\n",
      "==============================================================================\n"
     ]
    }
   ],
   "source": [
    "# Configura variáveis\n",
    "x_train_ = sm.add_constant(x_train)\n",
    "x_test_ = sm.add_constant(x_test)\n",
    "\n",
    "# Treina o modelo\n",
    "reg_log = sm.GLM(y_train, x_train_, family = sm.families.Binomial())\n",
    "reg_log = reg_log.fit()\n",
    "\n",
    "# Resumo do modelo\n",
    "print(reg_log.summary())"
   ]
  },
  {
   "cell_type": "markdown",
   "id": "13d2fce8",
   "metadata": {},
   "source": [
    "### 4.3 Avaliação do Modelo"
   ]
  },
  {
   "cell_type": "code",
   "execution_count": 18,
   "id": "7a9a69f0-44cf-4cab-b8af-7efd9a6e1e0e",
   "metadata": {},
   "outputs": [
    {
     "name": "stdout",
     "output_type": "stream",
     "text": [
      "AUC - Treinamento : 0.945193\n",
      "Gini - Treinamento:  0.89\n",
      "\n",
      "\n",
      "AUC - Teste : 0.911794\n",
      "Gini - Teste:  0.82\n"
     ]
    }
   ],
   "source": [
    "# Realizando previsão nas bases\n",
    "y_pred_train = reg_log.predict(x_train_)\n",
    "y_pred_test = reg_log.predict(x_test_)\n",
    "\n",
    "# Calculando a ROC e o Gini - Treinamento\n",
    "fpr_train, tpr_train, thresholds_train = roc_curve(y_train, y_pred_train)\n",
    "roc_auc_train = auc(fpr_train, tpr_train)\n",
    "\n",
    "print(\"AUC - Treinamento : %f\" % roc_auc_train)\n",
    "print(\"Gini - Treinamento: \", round(2*roc_auc_train-1,2))\n",
    "print(\"\\n\")\n",
    "\n",
    "# Calculando a ROC e o Gini - Teste\n",
    "fpr_test, tpr_test, thresholds_test = roc_curve(y_test, y_pred_test)\n",
    "roc_auc_test = auc(fpr_test, tpr_test)\n",
    "\n",
    "print(\"AUC - Teste : %f\" % roc_auc_test)\n",
    "print(\"Gini - Teste: \", round(2*roc_auc_test-1,2))"
   ]
  },
  {
   "cell_type": "code",
   "execution_count": 19,
   "id": "75a2bbd0-0506-4f18-9728-cc10abd35e32",
   "metadata": {},
   "outputs": [
    {
     "data": {
      "image/png": "[encoded data removed]",
      "text/plain": [
       "<Figure size 576x432 with 1 Axes>"
      ]
     },
     "metadata": {},
     "output_type": "display_data"
    }
   ],
   "source": [
    "# Plotando a ROC (AUC) - Treinamento\n",
    "\n",
    "roc_display = RocCurveDisplay(fpr=fpr_train, tpr=tpr_train).plot()\n",
    "plt.plot([0, 1], [0, 1],'r--')\n",
    "plt.gcf().set_size_inches(8, 6)"
   ]
  },
  {
   "cell_type": "markdown",
   "id": "3a19e5c7",
   "metadata": {},
   "source": [
    "#### Otimização\n",
    "\n",
    "Para otimizar o modelo, identifica-se o melhor ponto de corte do alvo para identificar cada categoria (**aprovado** ou **rejeitado**). Sendo assim, o ponto intersecção entre *True Positive Rate* e *False Positive Rate* é calculado de modo a obter um modelo mais efetivo."
   ]
  },
  {
   "cell_type": "code",
   "execution_count": 20,
   "id": "527de88b-5eba-4e30-a2fa-e326fbf48b61",
   "metadata": {},
   "outputs": [
    {
     "name": "stdout",
     "output_type": "stream",
     "text": [
      "      fpr    tpr  1-fpr    tf  thresholds\n",
      "28  0.124  0.885  0.876  0.01       0.417\n",
      "\n",
      "\n",
      "Ponto de corte otimizado: 0.417\n"
     ]
    }
   ],
   "source": [
    "i = np.arange(len(tpr_train))\n",
    "roc_train = pd.DataFrame({'fpr' : pd.Series(fpr_train, index=i)\n",
    "                    , 'tpr' : pd.Series(tpr_train, index = i)\n",
    "                    , '1-fpr' : pd.Series(1-fpr_train, index = i)\n",
    "                    , 'tf' : pd.Series(tpr_train - (1-fpr_train), index = i)\n",
    "                    , 'thresholds' : pd.Series(thresholds_train, index = i)})\n",
    "\n",
    "\n",
    "print(round(roc_train.loc[(roc_train.tf-0).abs().argsort()[:1]],3))\n",
    "print(\"\\n\")\n",
    "print(\"Ponto de corte otimizado: \" + str(round(roc_train.loc[(roc_train.tf-0).abs().argsort()[:1]],3).iloc[0][4]))"
   ]
  },
  {
   "cell_type": "code",
   "execution_count": 21,
   "id": "1b059a53-11e1-4233-b4d2-195074927e94",
   "metadata": {},
   "outputs": [
    {
     "data": {
      "image/png": "[encoded data removed]",
      "text/plain": [
       "<Figure size 1080x720 with 1 Axes>"
      ]
     },
     "metadata": {},
     "output_type": "display_data"
    }
   ],
   "source": [
    "# False Positive Rate e True Positive Rate\n",
    "fig, ax = plt.subplots()\n",
    "plt.plot(roc_train['tpr'])\n",
    "plt.plot(roc_train['1-fpr'], color = 'red')\n",
    "plt.xlabel('False Positive Rate')\n",
    "plt.ylabel('True Positive Rate')\n",
    "plt.title('ROC - Receiver operating characteristic')\n",
    "ax.set_xticklabels([]);\n",
    "plt.gcf().set_size_inches(15, 10)"
   ]
  },
  {
   "cell_type": "code",
   "execution_count": 22,
   "id": "be040d93-e1ce-4ac4-a0b5-1226e7cd7b9b",
   "metadata": {},
   "outputs": [],
   "source": [
    "cutoff = round(roc_train.loc[(roc_train.tf-0).abs().argsort()[:1]],3).iloc[0][4]\n",
    "\n",
    "# Criando os alvos binários para matriz de confusão\n",
    "y_pred_train_bin = y_pred_train\n",
    "y_pred_test_bin = y_pred_test\n",
    "\n",
    "# Aplicando o corte para as probabilidades do treinamento\n",
    "for score in range(0, len(y_pred_train-1)):\n",
    "    if y_pred_train.iloc[score] >= cutoff:\n",
    "        y_pred_train_bin.iloc[score] = 1\n",
    "    else:\n",
    "        y_pred_train_bin.iloc[score] = 0\n",
    "        \n",
    "\n",
    "# Aplicando o corte para as probabilidades do teste\n",
    "for score in range(0, len(y_pred_test-1)):\n",
    "    if y_pred_test.iloc[score] >= cutoff:\n",
    "        y_pred_test_bin.iloc[score] = 1\n",
    "    else:\n",
    "        y_pred_test_bin.iloc[score] = 0"
   ]
  },
  {
   "cell_type": "code",
   "execution_count": 23,
   "id": "30dd3c21-068d-4719-9d68-5a0fa73a913a",
   "metadata": {},
   "outputs": [
    {
     "name": "stdout",
     "output_type": "stream",
     "text": [
      "Avaliando a base de treinamento:\n",
      "[[134  19]\n",
      " [ 23 169]]\n",
      "\n",
      "\n",
      "Avaliando a base de test:\n",
      "[[132  22]\n",
      " [ 28 163]]\n"
     ]
    }
   ],
   "source": [
    "# Avaliando a matriz de confusão das bases\n",
    "\n",
    "print(\"Avaliando a base de treinamento:\")\n",
    "print(confusion_matrix(y_train, y_pred_train_bin))\n",
    "print(\"\\n\")\n",
    "print(\"Avaliando a base de test:\")\n",
    "print(confusion_matrix(y_test, y_pred_test_bin))"
   ]
  },
  {
   "cell_type": "code",
   "execution_count": 24,
   "id": "c4c69c34",
   "metadata": {},
   "outputs": [
    {
     "name": "stdout",
     "output_type": "stream",
     "text": [
      "              precision    recall  f1-score   support\n",
      "\n",
      "   Rejeitado       0.82      0.86      0.84       154\n",
      "    Aprovado       0.88      0.85      0.87       191\n",
      "\n",
      "    accuracy                           0.86       345\n",
      "   macro avg       0.85      0.86      0.85       345\n",
      "weighted avg       0.86      0.86      0.86       345\n",
      "\n"
     ]
    }
   ],
   "source": [
    "# Relatório de classificação\n",
    "\n",
    "print(classification_report(y_test, y_pred_test_bin, target_names =['Rejeitado', 'Aprovado']))"
   ]
  }
 ],
 "metadata": {
  "kernelspec": {
   "display_name": "Python 3",
   "language": "python",
   "name": "python3"
  },
  "language_info": {
   "codemirror_mode": {
    "name": "ipython",
    "version": 3
   },
   "file_extension": ".py",
   "mimetype": "text/x-python",
   "name": "python",
   "nbconvert_exporter": "python",
   "pygments_lexer": "ipython3",
   "version": "3.7.10"
  }
 },
 "nbformat": 4,
 "nbformat_minor": 5
}
